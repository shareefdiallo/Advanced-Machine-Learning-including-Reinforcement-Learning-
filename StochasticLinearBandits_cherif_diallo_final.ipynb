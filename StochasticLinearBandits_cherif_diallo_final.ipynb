{
  "nbformat": 4,
  "nbformat_minor": 0,
  "metadata": {
    "colab": {
      "name": "StochasticLinearBandits-cherif_diallo_final.ipynb",
      "provenance": [],
      "collapsed_sections": []
    },
    "kernelspec": {
      "name": "python2",
      "display_name": "Python 2"
    },
    "language_info": {
      "codemirror_mode": {
        "name": "ipython",
        "version": 2
      },
      "file_extension": ".py",
      "mimetype": "text/x-python",
      "name": "python",
      "nbconvert_exporter": "python",
      "pygments_lexer": "ipython2",
      "version": "2.7.16"
    },
    "accelerator": "GPU"
  },
  "cells": [
    {
      "cell_type": "code",
      "metadata": {
        "colab_type": "code",
        "id": "ylZIq1mOJBr8",
        "colab": {}
      },
      "source": [
        "import sys\n",
        "\n",
        "import numpy as np\n",
        "from scipy.stats import bernoulli\n",
        "from math import log\n",
        "\n",
        "import random\n",
        "import matplotlib.pyplot as plt\n",
        "%matplotlib inline\n",
        "\n",
        "import seaborn as sns"
      ],
      "execution_count": 0,
      "outputs": []
    },
    {
      "cell_type": "markdown",
      "metadata": {
        "colab_type": "text",
        "id": "njfnT-sUER9J"
      },
      "source": [
        "# Practical Session on Stochastic Linear Bandits :\n",
        "\n",
        "The architecture of code below provides the environment to run a standard linear bandit experiment. \n",
        "\n",
        "## LinUCB : Implementing optimism in $R^d$\n",
        "\n",
        "* Implement LinUCB as studied in class. In your opinion, what is (are) the bottleneck(s) of this algorithm ? \n",
        "* One key step is to invert the covariance matrix in order to compute the elliptical norm of each available action. At round $t+1$ the new covariance matrix is very similar to the previous one... Can you think of a way to optimize this step by simply updating the old one ? \n",
        "Hint : You can search for a way to compute the inverse of the sum of an invertible matrix A and the outer product, $ uv^\\top$, of vectors u and v.\n",
        "* It is common practice to tweak LinUCB by multiplying the confidence bonus by some hyperparameter $ 0<\\alpha <1 $. \n",
        "What would be the effect of doing so ? Do you think it is a good idea ? What are the risks ?\n",
        "\n",
        "## LinTS : Taking the Bayesian way\n",
        "\n",
        "Thompson Sampling is a popular bayesian alternative to the standard optimistic bandit algorithms (see Chapter 36 of Bandit Algorithms). The key idea is to rely on Bayesian samples to get a proxy for the hidden parameter $\\theta$ of the problem instead of building high-probability confidence regions. \n",
        "\n",
        "* Let us place a Gaussian prior with mean $\\mathbf{0}$ and covariance $\\sigma_0 I$ on $\\theta$. Given actions $A_1,\\ldots,A_t$ and rewards $Y_1,\\ldots,Y_t$, Can you compute the expression of the posterior at the beginning of round $t+1$ ? \n",
        "* Implement LinTS (Linear Thompson Sampling)"
      ]
    },
    {
      "cell_type": "markdown",
      "metadata": {
        "colab_type": "text",
        "id": "cX2dtH9A90C0"
      },
      "source": [
        "# Plot Function"
      ]
    },
    {
      "cell_type": "code",
      "metadata": {
        "colab_type": "code",
        "id": "1JbkkaXnJgqG",
        "colab": {}
      },
      "source": [
        "## Plot function : \n",
        "#-*-coding: utf-8 -*-\n",
        "\n",
        "current_palette = sns.color_palette()\n",
        "sns.set_style(\"ticks\")\n",
        "\n",
        "\n",
        "styles = ['o', '^', 's', 'D', '*']\n",
        "colors = current_palette[0:4]+current_palette[5:6]\n",
        "color_lb = current_palette[4]\n",
        "\n",
        "algos = {'LinUCB': 'LinUCB',\n",
        "         'LinUCB_alpha': 'LinUCB_alpha',\n",
        "         'Unif': 'Unif',\n",
        "         'Optimized_linUCB':'Optimized_linUCB'}\n",
        "\n",
        "def plot_regret(data, tsav, filename, log=False, taum=False,\n",
        "                freq=50, qtl=False):\n",
        "    fig = plt.figure(figsize=(7, 6))\n",
        "    Nsub = len(tsav)\n",
        "    T = len(data[0][1]) # length of regret\n",
        "    N_curves = len(data)\n",
        "    if log == True:\n",
        "        plt.xscale('log')\n",
        "        markevery = 1. / 12\n",
        "        freq = 1\n",
        "    i = 0\n",
        "    \n",
        "    for key, regret, avgRegret, qRegret, QRegret in data:\n",
        "        T = len(regret)\n",
        "        if qtl:\n",
        "            label = algos[key] # r\"\\textbf{%s}\" % \n",
        "            plt.plot(tsav, avgRegret, marker=styles[i], markevery=4,\n",
        "                     ms=10.0, label=label, color=colors[i])\n",
        "            plt.fill_between(tsav, qRegret, QRegret, alpha=0.15, \n",
        "                             linewidth=1.5, color=colors[i])\n",
        "        else:\n",
        "            label = algos[key] #r\"\\textbf{%s}\" % algos[key]\n",
        "            plt.plot(np.arange(len(regret))[0::freq], regret[0::freq],\n",
        "                     marker=styles[i], ms=10.0,\n",
        "                     label=label, color=colors[i])\n",
        "        i += 1\n",
        "\n",
        "    plt.legend(loc=2)\n",
        "    plt.xlabel('Round t', fontsize=20)\n",
        "    plt.ylabel('Regret R(T)', fontsize=18)\n",
        "        \n",
        "    plt.savefig('%s.pdf' % (filename), bbox_inches='tight')\n",
        "    plt.show()\n",
        "    plt.close(fig)\n",
        "    return\n",
        "  \n",
        " \n"
      ],
      "execution_count": 0,
      "outputs": []
    },
    {
      "cell_type": "markdown",
      "metadata": {
        "colab_type": "text",
        "id": "HH892IKv95t3"
      },
      "source": [
        "# Action generators "
      ]
    },
    {
      "cell_type": "code",
      "metadata": {
        "colab_type": "code",
        "id": "dKTTMwwB8rQS",
        "colab": {}
      },
      "source": [
        "def randomActionsGenerator(K,d):\n",
        "  \"\"\"\n",
        "  K: int -- number of action vectors to be generated\n",
        "  d : int -- dimension of the action space\n",
        "  returns : an array of K vectors uniformly sampled on the unit sphere in R^d\n",
        "  \"\"\"\n",
        "\n",
        "  vecs = np.random.multivariate_normal(np.zeros(d), np.eye(d), size =K)\n",
        "  norms = np.linalg.norm(vecs,axis=1)\n",
        "  return vecs / norms[:,np.newaxis]"
      ],
      "execution_count": 0,
      "outputs": []
    },
    {
      "cell_type": "code",
      "metadata": {
        "colab_type": "code",
        "id": "oRMn0Zrx9rvX",
        "colab": {}
      },
      "source": [
        "a = randomActionsGenerator(100,2)\n"
      ],
      "execution_count": 0,
      "outputs": []
    },
    {
      "cell_type": "code",
      "metadata": {
        "colab_type": "code",
        "id": "UeLSv2Vp9-75",
        "outputId": "f773b4d1-2b52-4879-e8bb-a9d362a6b703",
        "colab": {
          "base_uri": "https://localhost:8080/",
          "height": 287
        }
      },
      "source": [
        "plt.scatter(a[:,0],a[:,1])"
      ],
      "execution_count": 13,
      "outputs": [
        {
          "output_type": "execute_result",
          "data": {
            "text/plain": [
              "<matplotlib.collections.PathCollection at 0x7f84a641b890>"
            ]
          },
          "metadata": {
            "tags": []
          },
          "execution_count": 13
        },
        {
          "output_type": "display_data",
          "data": {
            "image/png": "[encoded data removed]",
            "text/plain": [
              "<Figure size 432x288 with 1 Axes>"
            ]
          },
          "metadata": {
            "tags": []
          }
        }
      ]
    },
    {
      "cell_type": "markdown",
      "metadata": {
        "colab_type": "text",
        "id": "3phj8yu79_Rt"
      },
      "source": [
        "# Environment Class"
      ]
    },
    {
      "cell_type": "code",
      "metadata": {
        "colab_type": "code",
        "id": "zKlD-rMUKumJ",
        "colab": {}
      },
      "source": [
        "class Environment:\n",
        "  \"\"\"\n",
        "    Parameters:\n",
        "    -----------\n",
        "    K:  int\n",
        "        Number of arms generated at each round\n",
        "\n",
        "    d: int\n",
        "        Dimension of the problem\n",
        "\n",
        "    theta: d-dimensional vector\n",
        "        Key hidden parameter of the problem\n",
        "\n",
        "\n",
        "    \"\"\"\n",
        "\n",
        "  def __init__(self, d, K, theta):\n",
        "    self.theta = theta\n",
        "    self.d = d\n",
        "    self.K = K\n",
        "    \n",
        "\n",
        "  \n",
        "\n",
        "  def play(self, chosen_arm):\n",
        "    \"\"\"Play the arm with index choice and returns the corresponding reward:\n",
        "\n",
        "        expected_reward + gaussian_noise\n",
        "        \"\"\"\n",
        "\n",
        "    expected_reward = np.dot(chosen_arm, self.theta)\n",
        "    reward = np.random.normal(expected_reward)\n",
        "\n",
        "    return chosen_arm, expected_reward, reward\n",
        "\n",
        "  def getBestArm(self, arms):\n",
        "    \"\"\"Return the index of the best arm and the corresponding expected payoff\"\"\"\n",
        "    payoffs = np.zeros(self.K)\n",
        "    for i in range(self.K):\n",
        "      payoffs[i] = np.dot(arms[i,:], self.theta)\n",
        "\n",
        "    bestArm = np.argmax(payoffs)\n",
        "    return bestArm, payoffs[bestArm]"
      ],
      "execution_count": 0,
      "outputs": []
    },
    {
      "cell_type": "markdown",
      "metadata": {
        "colab_type": "text",
        "id": "-_PSPRfU-CRy"
      },
      "source": [
        "#Simulator"
      ]
    },
    {
      "cell_type": "code",
      "metadata": {
        "colab_type": "code",
        "id": "DGBOLpGfIg7M",
        "colab": {}
      },
      "source": [
        "class Simulator():\n",
        "  \"\"\"\n",
        "    Simulator of stochastic delayed games.\n",
        "\n",
        "    Params:\n",
        "    -------\n",
        "\n",
        "    policies: list\n",
        "        List of policies to test.\n",
        "\n",
        "    K: int\n",
        "        Number of arms to be generated at each round\n",
        "\n",
        "    d: int\n",
        "        Dimension of the problem\n",
        "\n",
        "    \"\"\"\n",
        "\n",
        "  def __init__(self, environment, policies, K, d):\n",
        "    self.env = environment\n",
        "    self.policies = policies\n",
        "    self.d = d\n",
        "    self.K = K\n",
        "\n",
        "  def run(self, T, N, q, tsav):\n",
        "    \"\"\"Runs an experiment with parameters T and N.\n",
        "\n",
        "        It returns a dictionary whose keys are policies and whose values\n",
        "        are the regret obtained by these policies over the experiments and\n",
        "        averaged over N runs.qRegret and QRegret are the first and third quartiles.\n",
        "\n",
        "        Parameters\n",
        "        ----------\n",
        "        T: int\n",
        "            Length of the sequential allocations.\n",
        "\n",
        "        N: int\n",
        "            Number of Monte Carlo repetitions.\n",
        "\n",
        "        q: int\n",
        "            Quantile parameter (e.g. 25 -> quartiles)\n",
        "\n",
        "        tsav: numpy array (ndim = 1)\n",
        "            Points to save on each trajectory.\n",
        "        \"\"\"\n",
        "    #Nsub = np.size(tsav)\n",
        "\n",
        "    regret, cumRegret, N_plays = dict(), dict(), dict()\n",
        "    Nsub = np.size(tsav)  # Number of points saved for each trajectory\n",
        "    avgRegret, qRegret, QRegret = dict(), dict(), dict()\n",
        "\n",
        "    for policy in self.policies:\n",
        "      name = policy.id()\n",
        "      cumRegret[name] = np.zeros((N, Nsub))\n",
        "      regret[name] = np.zeros(T)\n",
        "\n",
        "    for nExp in range(N):\n",
        "\n",
        "      if N < 10 or nExp % (N / 5) == 0:\n",
        "        print \"experiments executed:\", nExp\n",
        "        sys.stdout.flush()\n",
        "\n",
        "      for policy in self.policies:\n",
        "\n",
        "        name = policy.id()\n",
        "        # Reinitialize the policy\n",
        "        policy.init()\n",
        "        optimalRewards = np.zeros(T)\n",
        "        rewards = np.zeros(T)\n",
        "\n",
        "        # We follow the policy\n",
        "        #print \"ready for experiment %d\" % (nExp)\n",
        "        for t in range(T):\n",
        "\n",
        "          # get arms, play one of them (policy), get reward:\n",
        "          availableArms = randomActionsGenerator(self.K,self.d)  \n",
        "          A_t = policy.selectArm(availableArms, self.K)\n",
        "          chosen_arm, expected_reward, reward = self.env.play(availableArms[A_t,:])\n",
        "\n",
        "          #update the policy:\n",
        "          policy.updateState(chosen_arm,reward)\n",
        "\n",
        "          #compute instant pseudo regret\n",
        "          instantBestArm, instantBestReward = self.env.getBestArm(availableArms)\n",
        "          optimalRewards[t] += instantBestReward\n",
        "          rewards[t] += expected_reward\n",
        "        \n",
        "\n",
        "        regret[name] += (optimalRewards - rewards) \n",
        "        cumRegret[name][nExp] += np.cumsum(optimalRewards - rewards)[tsav]\n",
        "\n",
        "\n",
        "    print(\"build data out of the experiments\")\n",
        "    for policy in self.policies:\n",
        "      name = policy.id()\n",
        "      regret[name] = np.cumsum(regret[name]) / N\n",
        "\n",
        "      cumReg = cumRegret[name]\n",
        "      avgRegret[name] = np.mean(cumReg, 0)\n",
        "      qRegret[name] = np.percentile(cumReg, q, 0)\n",
        "      QRegret[name] = np.percentile(cumReg, 100 - q, 0)\n",
        "\n",
        "    print(\"data built\")\n",
        "    return regret, avgRegret, qRegret, QRegret"
      ],
      "execution_count": 0,
      "outputs": []
    },
    {
      "cell_type": "code",
      "metadata": {
        "colab_type": "code",
        "id": "ChN6oiILAk2S",
        "colab": {}
      },
      "source": [
        ""
      ],
      "execution_count": 0,
      "outputs": []
    },
    {
      "cell_type": "markdown",
      "metadata": {
        "colab_type": "text",
        "id": "DH0xNaMfBAbD"
      },
      "source": [
        "# Policies"
      ]
    },
    {
      "cell_type": "code",
      "metadata": {
        "colab_type": "code",
        "id": "5A0uWkbDBEnI",
        "colab": {}
      },
      "source": [
        "\n",
        "\n",
        "class Policy(object):\n",
        "\n",
        "  def __init__(self, K, T):\n",
        "    \"\"\"\n",
        "        Constructor.\n",
        "        \"\"\"\n",
        "    raise NotImplementedError(\"Method `__init__` is not implemented.\")\n",
        "\n",
        "  def selectArm(self):\n",
        "    \"\"\"\n",
        "        This functions selects L arms among the K ones depending on statistics\n",
        "        over the past observations.\n",
        "        \"\"\"\n",
        "    raise NotImplementedError(\"Method `selectArms` is not implemented.\")\n",
        "\n",
        "  def updateState(self):\n",
        "    \"\"\"\n",
        "        This function updates the statistics given the new observations.\n",
        "        \"\"\"\n",
        "    raise NotImplementedError(\"Method `updateState` is not implemented.\")\n",
        "\n",
        "  def init(self):\n",
        "    \"\"\"\n",
        "        This function updates the statistics given the new observations.\n",
        "        \"\"\"\n",
        "    raise NotImplementedError(\"Method `updateState` is not implemented.\") \n",
        "\n",
        "  #@staticmethod\n",
        "  def id(self):\n",
        "    raise NotImplementedError(\"Static method `id` is not implemented.\")\n"
      ],
      "execution_count": 0,
      "outputs": []
    },
    {
      "cell_type": "markdown",
      "metadata": {
        "id": "4o8E8aIhadHk",
        "colab_type": "text"
      },
      "source": [
        "####**below we implemented the linUCB algorithm learned in class**"
      ]
    },
    {
      "cell_type": "code",
      "metadata": {
        "colab_type": "code",
        "id": "e9uEOaPwBAbA",
        "colab": {}
      },
      "source": [
        "## Policies :\n",
        "\n",
        "class Uniform(Policy):\n",
        "  def __init__(self, T,d):\n",
        "    pass\n",
        "\n",
        "  def selectArm(self, arms, K):\n",
        "    return np.random.choice(K)\n",
        "\n",
        "  def updateState(self, chosen_arm, reward):\n",
        "    pass\n",
        "\n",
        "  def init(self):\n",
        "    pass\n",
        "\n",
        "  #@staticmethod\n",
        "  def id(self):\n",
        "    return 'Unif'\n",
        "\n",
        "from numpy.linalg import pinv\n",
        "\n",
        "#Implementation of LinUCB as studied in class\n",
        "class LinUCB(Policy):\n",
        "\n",
        "  def __init__(self, T, d, alpha,delta,lamda,K,S):\n",
        "    self.T = T\n",
        "    self.d = d\n",
        "    self.alpha=alpha\n",
        "    self.delta = delta\n",
        "    self.lamda=lamda\n",
        "    self.K = K\n",
        "    self.S = S\n",
        "    #dropping the loglog(t) term for now\n",
        "\n",
        "  def init(self):\n",
        "    self.t = 0\n",
        "    self.V = self.lamda*np.eye(self.d)\n",
        "    self.b = np.zeros(self.d)\n",
        "    self.Beta = self.alpha*(np.sqrt(self.lamda)*self.S + np.sqrt(2*np.log(1/self.delta) + self.d*np.log((self.lamda*self.d+self.t)/(self.lamda*self.d)))) \n",
        "    \n",
        "\n",
        "  def selectArm(self, arms, K):\n",
        "    \"\"\"\n",
        "        This function implements LinUCB\n",
        "        Input:\n",
        "        -------\n",
        "        arms : list of arms (d-dimensional vectors)\n",
        "\n",
        "        Output:\n",
        "        -------\n",
        "        chosen_arm : index of the pulled arm\n",
        "        \"\"\"\n",
        "    inV = pinv(self.V) #inverted V\n",
        "    teta = np.matmul(inV,np.transpose(self.b))\n",
        "    pay_off_t = [np.matmul(arms[i],teta) + np.sqrt(self.Beta*(np.matmul(np.transpose(arms[i]),np.matmul(inV,arms[i])))) for i in range(self.K)]\n",
        "    return np.argmax(pay_off_t)\n",
        "\n",
        "    \n",
        "\n",
        "  def updateState(self, chosen_arm, reward):\n",
        "\n",
        "    self.t+=1\n",
        "    self.V += np.outer(np.transpose(chosen_arm),chosen_arm)\n",
        "    self.b += chosen_arm*reward\n",
        "    self.Beta = self.alpha*(np.sqrt(self.lamda)*self.S + np.sqrt(2*np.log(1/self.delta) + self.d*np.log((self.lamda*self.d+self.t)/(self.lamda*self.d))))\n",
        "    pass\n",
        "\n",
        "\n",
        "  def id(self):\n",
        "    return \"LinUCB\"\n",
        "\n",
        "  "
      ],
      "execution_count": 0,
      "outputs": []
    },
    {
      "cell_type": "markdown",
      "metadata": {
        "id": "2kaY6_nnOhRd",
        "colab_type": "text"
      },
      "source": [
        "##**bottlenecks answer here**"
      ]
    },
    {
      "cell_type": "markdown",
      "metadata": {
        "id": "AyqzrXmrOpM_",
        "colab_type": "text"
      },
      "source": [
        "Not only is this algorithm computationnaly expensive, it provides hurdles via the choosing of the confidence interval which is vital "
      ]
    },
    {
      "cell_type": "markdown",
      "metadata": {
        "colab_type": "text",
        "id": "AY1ZUny5I4Pl"
      },
      "source": [
        "# main"
      ]
    },
    {
      "cell_type": "code",
      "metadata": {
        "colab_type": "code",
        "id": "0BoYONrQBAan",
        "outputId": "b38a0973-a352-43ed-bdd5-57fd5285787a",
        "colab": {
          "base_uri": "https://localhost:8080/",
          "height": 146
        }
      },
      "source": [
        "import time\n",
        "import numpy as np\n",
        "import pickle\n",
        "\n",
        "d = 15  # dimension\n",
        "K = 30  # number of arms\n",
        "\n",
        "# parametor vector \\theta, normalized :\n",
        "theta = np.random.randint(2, size=d)\n",
        "theta = theta / np.linalg.norm(theta)\n",
        "\n",
        "\n",
        "T = 1000  # Finite Horizon\n",
        "N = 10  # Monte Carlo simulations\n",
        "\n",
        "delta = 0.1\n",
        "\n",
        "# save subsampled points for Figures\n",
        "Nsub = 100\n",
        "tsav = range(2, T, Nsub)\n",
        "\n",
        "#choice of quantile display\n",
        "q = 10\n",
        "\n",
        "\n",
        "\n",
        "alpha= 1\n",
        "lamda=0.5\n",
        "S=1\n",
        "\n",
        "def main(N):\n",
        "\n",
        "  # Create an object of K arms with delayed feedback with mean delay tau\n",
        "  env = Environment(d, K, theta)\n",
        "  # Policies to evaluate\n",
        "  policies = [LinUCB(T, d, alpha,delta,lamda,K,S), \n",
        "              Uniform(T,d)]\n",
        "\n",
        "  simulator = Simulator(env, policies, K, d)\n",
        "\n",
        "  regret, avgRegret, qRegret, QRegret= simulator.run(T, N, q, tsav)\n",
        "\n",
        "  data = [[\n",
        "      policy, regret[policy], avgRegret[policy], qRegret[policy],\n",
        "      QRegret[policy]\n",
        "  ] for policy in avgRegret]\n",
        "\n",
        "  return data\n",
        "\n",
        "\n",
        "data = main(N)\n",
        "  \n",
        "  #data \n",
        "#   with open('linucb_test' + str(d) + '_dim-' + str(K) + '_K' + '.pkl',\n",
        "#             'wb') as foutput:\n",
        "#     pickle.dump(data, foutput, protocol=2)\n",
        "\n",
        "\n",
        "  \n",
        "  \n",
        " "
      ],
      "execution_count": 25,
      "outputs": [
        {
          "output_type": "stream",
          "text": [
            "experiments executed: 0\n",
            "experiments executed: 2\n",
            "experiments executed: 4\n",
            "experiments executed: 6\n",
            "experiments executed: 8\n",
            "build data out of the experiments\n",
            "data built\n"
          ],
          "name": "stdout"
        }
      ]
    },
    {
      "cell_type": "code",
      "metadata": {
        "colab_type": "code",
        "outputId": "d04a1896-7c59-45bc-f3d3-f5ec0444fde6",
        "id": "ROd2qFSu5IrA",
        "colab": {
          "base_uri": "https://localhost:8080/",
          "height": 401
        }
      },
      "source": [
        "\n",
        "freq = 10\n",
        "plot_regret(\n",
        "    data,\n",
        "    tsav,\n",
        "    'linucb_test' + str(d) + '_dim-' + str(K) + '_K',\n",
        "    log=False,\n",
        "    freq=freq,\n",
        "    qtl=True)"
      ],
      "execution_count": 26,
      "outputs": [
        {
          "output_type": "display_data",
          "data": {
            "image/png": "[encoded data removed]",
            "text/plain": [
              "<Figure size 504x432 with 1 Axes>"
            ]
          },
          "metadata": {
            "tags": []
          }
        }
      ]
    },
    {
      "cell_type": "markdown",
      "metadata": {
        "id": "hCk28oYNZ7y7",
        "colab_type": "text"
      },
      "source": [
        "##**Modifing the inversion of the covariance matrix**"
      ]
    },
    {
      "cell_type": "markdown",
      "metadata": {
        "id": "S6c1MOXGZvWe",
        "colab_type": "text"
      },
      "source": [
        "One key step is to invert the covariance matrix in order to compute the elliptical norm of each available action. At round $t+1$ the new covariance matrix is very similar to the previous one... Can you think of a way to optimize this step by simply updating the old one ? \n",
        "Hint : You can search for a way to compute the inverse of the sum of an invertible matrix A and the outer product, $ uv^\\top$, of vectors u and v."
      ]
    },
    {
      "cell_type": "markdown",
      "metadata": {
        "id": "-pFVVwpXbWVt",
        "colab_type": "text"
      },
      "source": [
        "we can optimize this porcess by using  the Sherman–Morrison formula that states that given invertible matrix A and the outer product, uv⊤, of vectors u and v:\n",
        "\n",
        "<math>\\begin{align}\n",
        "   (A + uv^\\textsf{T})^{-1} =  A^{-1} -{A^{-1}uv^\\textsf{T}A^{-1}\\over 1 + v^\\textsf{T}A^{-1}u}  \\\\[6pt] \\\\\n",
        "\\end{align}</math>\n"
      ]
    },
    {
      "cell_type": "markdown",
      "metadata": {
        "id": "97ASXDREgKPN",
        "colab_type": "text"
      },
      "source": [
        "let's apply this to our new algorithm "
      ]
    },
    {
      "cell_type": "code",
      "metadata": {
        "id": "yFiGMsf8RECJ",
        "colab_type": "code",
        "colab": {}
      },
      "source": [
        "\"this function does the optimized version of the inversion of the covariance matrix \"\n",
        "def optimized_inversion(A,u,v):\n",
        "  a=np.outer(u,np.transpose(v))\n",
        "  res=A-(np.matmul(A, np.matmul(a, A))/(np.matmul(np.transpose(v),np.matmul(A,u))+1)) #cf M formula above \n",
        "  return res"
      ],
      "execution_count": 0,
      "outputs": []
    },
    {
      "cell_type": "markdown",
      "metadata": {
        "id": "ajkVjK2_ieMk",
        "colab_type": "text"
      },
      "source": [
        "now let's modify our LinUCB into Optimized_linUCB"
      ]
    },
    {
      "cell_type": "code",
      "metadata": {
        "id": "tSo1GlGqiMCs",
        "colab_type": "code",
        "colab": {}
      },
      "source": [
        "class Optimized_linUCB(Policy):\n",
        "\n",
        "  def __init__(self, T, d, alpha,delta,lamda,K,S):\n",
        "    self.T = T\n",
        "    self.d = d\n",
        "    self.alpha=alpha\n",
        "    self.delta = delta\n",
        "    self.lamda=lamda\n",
        "    self.K = K\n",
        "    self.S = S\n",
        "    #dropping the loglog(t) term for now\n",
        "\n",
        "  def init(self):\n",
        "    self.t = 0\n",
        "    self.V = self.lamda*np.eye(self.d)\n",
        "    self.inV = (1/self.lamda)*np.eye(self.d) #inverted V here initialised accordingly to wha we re going to apply \n",
        "    self.b = np.zeros(self.d)\n",
        "    self.Beta = self.alpha*(np.sqrt(self.lamda)*self.S + np.sqrt(2*np.log(1/self.delta) + self.d*np.log((self.lamda*self.d+self.t)/(self.lamda*self.d)))) \n",
        "    \n",
        "    \n",
        "\n",
        "  def selectArm(self, arms, K):\n",
        "    \"\"\"\n",
        "        This function implements optimized_linUCB\n",
        "        Input:\n",
        "        -------\n",
        "        arms : list of arms (d-dimensional vectors)\n",
        "\n",
        "        Output:\n",
        "        -------\n",
        "        chosen_arm : index of the pulled arm\n",
        "        \"\"\"\n",
        "    \n",
        "\n",
        "    teta = np.matmul(self.inV,np.transpose(self.b))\n",
        "    pay_off_t = [np.matmul(arms[i],teta) + np.sqrt(self.Beta*(np.matmul(np.transpose(arms[i]),np.matmul(self.inV,arms[i])))) for i in range(self.K)]\n",
        "    return np.argmax(pay_off_t)\n",
        "\n",
        "    \n",
        "\n",
        "  def updateState(self,chosen_arm,reward):\n",
        "    self.t+=1\n",
        "    self.V += np.outer(np.transpose(chosen_arm),chosen_arm)\n",
        "    self.inV = optimized_inversion(self.inV,chosen_arm,chosen_arm) #here we give it the previous inverted one since we are computing reccursively\n",
        "    self.b += chosen_arm*reward\n",
        "    self.Beta = self.alpha*(np.sqrt(self.lamda)*self.S + np.sqrt(2*np.log(1/self.delta) + self.d*np.log((self.lamda*self.d + self.t)/(self.lamda*self.d))))\n",
        "    pass\n",
        "\n",
        "\n",
        "  def id(self):\n",
        "    return \"Optimized_linUCB\"\n"
      ],
      "execution_count": 0,
      "outputs": []
    },
    {
      "cell_type": "markdown",
      "metadata": {
        "id": "hiGKyvvzlc0N",
        "colab_type": "text"
      },
      "source": [
        "let's rerun using **MAIN**"
      ]
    },
    {
      "cell_type": "code",
      "metadata": {
        "id": "uyjrclSXkxkQ",
        "colab_type": "code",
        "outputId": "742bc8fe-c03a-46fe-9962-cb5e4333b3bb",
        "colab": {
          "base_uri": "https://localhost:8080/",
          "height": 530
        }
      },
      "source": [
        "\n",
        "def main_bis(N):\n",
        "  # Create an object of K arms with delayed feedback with mean delay tau\n",
        "  env = Environment(d, K, theta)\n",
        "  # Policies to evaluate\n",
        "  policies = [LinUCB(T, d, alpha,delta,lamda,K,S), \n",
        "              Uniform(T,d),Optimized_linUCB(T, d, alpha,delta,lamda,K,S)]\n",
        "\n",
        "  simulator = Simulator(env, policies, K, d)\n",
        "\n",
        "  regret, avgRegret, qRegret, QRegret= simulator.run(T, N, q, tsav)\n",
        "\n",
        "  data = [[\n",
        "      policy, regret[policy], avgRegret[policy], qRegret[policy],\n",
        "      QRegret[policy]\n",
        "  ] for policy in avgRegret]\n",
        "\n",
        "  return data\n",
        "\n",
        "\n",
        "data = main_bis(N)\n",
        "  \n",
        "  #data \n",
        "#   with open('linucb_test' + str(d) + '_dim-' + str(K) + '_K' + '.pkl',\n",
        "#             'wb') as foutput:\n",
        "#     pickle.dump(data, foutput, protocol=2)\n",
        "\n",
        "\n",
        "freq = 10\n",
        "plot_regret(\n",
        "    data,\n",
        "    tsav,\n",
        "    'linucb_test' + str(d) + '_dim-' + str(K) + '_K',\n",
        "    log=False,\n",
        "    freq=freq,\n",
        "    qtl=True) "
      ],
      "execution_count": 29,
      "outputs": [
        {
          "output_type": "stream",
          "text": [
            "experiments executed: 0\n",
            "experiments executed: 2\n",
            "experiments executed: 4\n",
            "experiments executed: 6\n",
            "experiments executed: 8\n",
            "build data out of the experiments\n",
            "data built\n"
          ],
          "name": "stdout"
        },
        {
          "output_type": "display_data",
          "data": {
            "image/png": "[encoded data removed]",
            "text/plain": [
              "<Figure size 504x432 with 1 Axes>"
            ]
          },
          "metadata": {
            "tags": []
          }
        }
      ]
    },
    {
      "cell_type": "markdown",
      "metadata": {
        "id": "ODj_hzp1pMiT",
        "colab_type": "text"
      },
      "source": [
        "###**tel's compare the speed of our two LinUCB** "
      ]
    },
    {
      "cell_type": "code",
      "metadata": {
        "id": "qKaji6cFmPCz",
        "colab_type": "code",
        "outputId": "e9293535-c9e1-406f-9a88-eb0aa7323377",
        "colab": {
          "base_uri": "https://localhost:8080/",
          "height": 312
        }
      },
      "source": [
        "def main_linUCB(N):\n",
        "  # Create an object of K arms with delayed feedback with mean delay tau\n",
        "  env = Environment(d, K, theta)\n",
        "  # Policies to evaluate\n",
        "  policies = [LinUCB(T, d, alpha,delta,lamda,K,S)]\n",
        "\n",
        "  simulator = Simulator(env, policies, K, d)\n",
        "\n",
        "  regret, avgRegret, qRegret, QRegret= simulator.run(T, N, q, tsav)\n",
        "\n",
        "  data = [[\n",
        "      policy, regret[policy], avgRegret[policy], qRegret[policy],\n",
        "      QRegret[policy]\n",
        "  ] for policy in avgRegret]\n",
        "\n",
        "  return data\n",
        "\n",
        "def main_optimized_linUCB(N):\n",
        "  # Create an object of K arms with delayed feedback with mean delay tau\n",
        "  env = Environment(d, K, theta)\n",
        "  # Policies to evaluate\n",
        "  policies = [Optimized_linUCB(T, d, alpha,delta,lamda,K,S)]\n",
        "\n",
        "  simulator = Simulator(env, policies, K, d)\n",
        "\n",
        "  regret, avgRegret, qRegret, QRegret= simulator.run(T, N, q, tsav)\n",
        "\n",
        "  data = [[\n",
        "      policy, regret[policy], avgRegret[policy], qRegret[policy],\n",
        "      QRegret[policy]\n",
        "  ] for policy in avgRegret]\n",
        "\n",
        "  return data\n",
        "\n",
        "\n",
        "start = time.time()\n",
        "linucb = main_linUCB(N)\n",
        "end = time.time()   \n",
        "print('time for linUCB : '+str(end-start))\n",
        "\n",
        "start = time.time()\n",
        "optim_linucb = main_optimized_linUCB(N)\n",
        "end = time.time()   \n",
        "print('time for Optimized linUCB : '+str(end-start))\n"
      ],
      "execution_count": 30,
      "outputs": [
        {
          "output_type": "stream",
          "text": [
            "experiments executed: 0\n",
            "experiments executed: 2\n",
            "experiments executed: 4\n",
            "experiments executed: 6\n",
            "experiments executed: 8\n",
            "build data out of the experiments\n",
            "data built\n",
            "time for linUCB : 7.59765195847\n",
            "experiments executed: 0\n",
            "experiments executed: 2\n",
            "experiments executed: 4\n",
            "experiments executed: 6\n",
            "experiments executed: 8\n",
            "build data out of the experiments\n",
            "data built\n",
            "time for Optimized linUCB : 5.80634093285\n"
          ],
          "name": "stdout"
        }
      ]
    },
    {
      "cell_type": "markdown",
      "metadata": {
        "id": "Kt6vJ0B8svAu",
        "colab_type": "text"
      },
      "source": [
        "we indeed have a slightly faster algorithm using our inversion method on this small datast we can only imagine the advatages we'd ave for a larger one."
      ]
    },
    {
      "cell_type": "markdown",
      "metadata": {
        "id": "WEAE782HJcXW",
        "colab_type": "text"
      },
      "source": [
        "###**differents values of alpha**"
      ]
    },
    {
      "cell_type": "code",
      "metadata": {
        "id": "EwQvhSUZmw_t",
        "colab_type": "code",
        "colab": {}
      },
      "source": [
        "class LinUCB_alpha(Policy):\n",
        "\n",
        "  def __init__(self, T, d, alpha,delta,lamda,K,S):\n",
        "    self.T = T\n",
        "    self.d = d\n",
        "    self.alpha=alpha\n",
        "    self.delta = delta\n",
        "    self.lamda=lamda\n",
        "    self.K = K\n",
        "    self.S = S\n",
        "    #dropping the loglog(t) term for now\n",
        "\n",
        "  def init(self):\n",
        "    self.t = 0\n",
        "    self.V = self.lamda*np.eye(self.d)\n",
        "    self.b = np.zeros(self.d)\n",
        "    self.Beta = self.alpha*(np.sqrt(self.lamda)*self.S + np.sqrt(2*np.log(1/self.delta) + self.d*np.log((self.lamda*self.d+self.t)/(self.lamda*self.d)))) \n",
        "    \n",
        "\n",
        "  def selectArm(self, arms, K):\n",
        "    \"\"\"\n",
        "        This function implements LinUCB\n",
        "        Input:\n",
        "        -------\n",
        "        arms : list of arms (d-dimensional vectors)\n",
        "\n",
        "        Output:\n",
        "        -------\n",
        "        chosen_arm : index of the pulled arm\n",
        "        \"\"\"\n",
        "    inV = pinv(self.V) #inverted V\n",
        "    teta = np.matmul(inV,np.transpose(self.b))\n",
        "    pay_off_t = [np.matmul(arms[i],teta) + np.sqrt(self.Beta*(np.matmul(np.transpose(arms[i]),np.matmul(inV,arms[i])))) for i in range(self.K)]\n",
        "    return np.argmax(pay_off_t)\n",
        "\n",
        "    \n",
        "\n",
        "  def updateState(self, chosen_arm, reward):\n",
        "\n",
        "    self.t+=1\n",
        "    self.V += np.outer(np.transpose(chosen_arm),chosen_arm)\n",
        "    self.b += chosen_arm*reward\n",
        "    self.Beta = self.alpha*(np.sqrt(self.lamda)*self.S + np.sqrt(2*np.log(1/self.delta) + self.d*np.log((self.lamda*self.d+self.t)/(self.lamda*self.d))))\n",
        "    pass\n",
        "\n",
        "\n",
        "  def id(self):\n",
        "    return \"LinUCB_alpha\"\n",
        "\n",
        "  "
      ],
      "execution_count": 0,
      "outputs": []
    },
    {
      "cell_type": "code",
      "metadata": {
        "id": "_5gIjnkrFLG9",
        "colab_type": "code",
        "outputId": "c697beb7-1e04-4a99-c4fe-5598b02ef14b",
        "colab": {
          "base_uri": "https://localhost:8080/",
          "height": 530
        }
      },
      "source": [
        "\n",
        "\n",
        "d = 15  # dimension\n",
        "K = 30  # number of arms\n",
        "\n",
        "# parametor vector \\theta, normalized :\n",
        "theta = np.random.randint(2, size=d)\n",
        "theta = theta / np.linalg.norm(theta)\n",
        "\n",
        "\n",
        "T = 1000  # Finite Horizon\n",
        "N = 10  # Monte Carlo simulations\n",
        "\n",
        "delta = 0.1\n",
        "\n",
        "# save subsampled points for Figures\n",
        "Nsub = 100\n",
        "tsav = range(2, T, Nsub)\n",
        "\n",
        "#choice of quantile display\n",
        "q = 10\n",
        "\n",
        "\n",
        "\n",
        "alpha= 0.5\n",
        "lamda=0.5\n",
        "S=1\n",
        "\n",
        "def main(N):\n",
        "\n",
        "  # Create an object of K arms with delayed feedback with mean delay tau\n",
        "  env = Environment(d, K, theta)\n",
        "  # Policies to evaluate\n",
        "  policies = [LinUCB(T, d, alpha,delta,lamda,K,S), \n",
        "              Uniform(T,d),LinUCB_alpha(T, d, alpha,delta,lamda,K,S)]\n",
        "\n",
        "  simulator = Simulator(env, policies, K, d)\n",
        "\n",
        "  regret, avgRegret, qRegret, QRegret= simulator.run(T, N, q, tsav)\n",
        "\n",
        "  data = [[\n",
        "      policy, regret[policy], avgRegret[policy], qRegret[policy],\n",
        "      QRegret[policy]\n",
        "  ] for policy in avgRegret]\n",
        "\n",
        "  return data\n",
        "\n",
        "\n",
        "data = main(N)\n",
        "\n",
        "freq = 10\n",
        "plot_regret(\n",
        "    data,\n",
        "    tsav,\n",
        "    'linucb_test' + str(d) + '_dim-' + str(K) + '_K',\n",
        "    log=False,\n",
        "    freq=freq,\n",
        "    qtl=True)"
      ],
      "execution_count": 32,
      "outputs": [
        {
          "output_type": "stream",
          "text": [
            "experiments executed: 0\n",
            "experiments executed: 2\n",
            "experiments executed: 4\n",
            "experiments executed: 6\n",
            "experiments executed: 8\n",
            "build data out of the experiments\n",
            "data built\n"
          ],
          "name": "stdout"
        },
        {
          "output_type": "display_data",
          "data": {
            "image/png": "[encoded data removed]",
            "text/plain": [
              "<Figure size 504x432 with 1 Axes>"
            ]
          },
          "metadata": {
            "tags": []
          }
        }
      ]
    },
    {
      "cell_type": "code",
      "metadata": {
        "id": "ZY1MPvcQGcnJ",
        "colab_type": "code",
        "outputId": "3cfade0b-c3a6-4f28-bb6a-02eec3bba15b",
        "colab": {
          "base_uri": "https://localhost:8080/",
          "height": 530
        }
      },
      "source": [
        "\n",
        "\n",
        "d = 15  # dimension\n",
        "K = 30  # number of arms\n",
        "\n",
        "# parametor vector \\theta, normalized :\n",
        "theta = np.random.randint(2, size=d)\n",
        "theta = theta / np.linalg.norm(theta)\n",
        "\n",
        "\n",
        "T = 1000  # Finite Horizon\n",
        "N = 10  # Monte Carlo simulations\n",
        "\n",
        "delta = 0.1\n",
        "\n",
        "# save subsampled points for Figures\n",
        "Nsub = 100\n",
        "tsav = range(2, T, Nsub)\n",
        "\n",
        "#choice of quantile display\n",
        "q = 10\n",
        "\n",
        "\n",
        "\n",
        "alpha= 0.01\n",
        "lamda=0.5\n",
        "S=1\n",
        "\n",
        "def main(N):\n",
        "\n",
        "  # Create an object of K arms with delayed feedback with mean delay tau\n",
        "  env = Environment(d, K, theta)\n",
        "  # Policies to evaluate\n",
        "  policies = [LinUCB(T, d, alpha,delta,lamda,K,S), \n",
        "              Uniform(T,d),LinUCB_alpha(T, d, alpha,delta,lamda,K,S)]\n",
        "\n",
        "  simulator = Simulator(env, policies, K, d)\n",
        "\n",
        "  regret, avgRegret, qRegret, QRegret= simulator.run(T, N, q, tsav)\n",
        "\n",
        "  data = [[\n",
        "      policy, regret[policy], avgRegret[policy], qRegret[policy],\n",
        "      QRegret[policy]\n",
        "  ] for policy in avgRegret]\n",
        "\n",
        "  return data\n",
        "\n",
        "\n",
        "data = main(N)\n",
        "\n",
        "freq = 10\n",
        "plot_regret(\n",
        "    data,\n",
        "    tsav,\n",
        "    'linucb_test' + str(d) + '_dim-' + str(K) + '_K',\n",
        "    log=False,\n",
        "    freq=freq,\n",
        "    qtl=True)"
      ],
      "execution_count": 33,
      "outputs": [
        {
          "output_type": "stream",
          "text": [
            "experiments executed: 0\n",
            "experiments executed: 2\n",
            "experiments executed: 4\n",
            "experiments executed: 6\n",
            "experiments executed: 8\n",
            "build data out of the experiments\n",
            "data built\n"
          ],
          "name": "stdout"
        },
        {
          "output_type": "display_data",
          "data": {
            "image/png": "[encoded data removed]",
            "text/plain": [
              "<Figure size 504x432 with 1 Axes>"
            ]
          },
          "metadata": {
            "tags": []
          }
        }
      ]
    },
    {
      "cell_type": "markdown",
      "metadata": {
        "id": "7xcx5HOKG3-t",
        "colab_type": "text"
      },
      "source": [
        "multiplying by a small alpha seems to give better result which makes alpha a hyperparameter. The other ones could also be tweeked   "
      ]
    },
    {
      "cell_type": "code",
      "metadata": {
        "id": "GQ7V_hYsGfAr",
        "colab_type": "code",
        "colab": {}
      },
      "source": [
        ""
      ],
      "execution_count": 0,
      "outputs": []
    }
  ]
}